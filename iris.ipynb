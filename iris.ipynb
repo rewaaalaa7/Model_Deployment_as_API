{
  "nbformat": 4,
  "nbformat_minor": 0,
  "metadata": {
    "colab": {
      "provenance": [],
      "gpuType": "T4"
    },
    "kernelspec": {
      "name": "python3",
      "display_name": "Python 3"
    },
    "language_info": {
      "name": "python"
    },
    "accelerator": "GPU"
  },
  "cells": [
    {
      "cell_type": "code",
      "execution_count": 14,
      "metadata": {
        "id": "zHCMc5Jwor8L"
      },
      "outputs": [],
      "source": [
        "from sklearn.datasets import load_iris\n",
        "from sklearn.model_selection import train_test_split\n",
        "from sklearn.linear_model import LogisticRegression\n",
        "from sklearn.ensemble import RandomForestClassifier\n",
        "from sklearn.svm import SVC\n",
        "from sklearn.neighbors import KNeighborsClassifier\n",
        "from sklearn.metrics import classification_report, confusion_matrix, accuracy_score\n",
        "import pickle\n",
        "import os\n",
        "import warnings\n",
        "\n",
        "warnings.filterwarnings(\"ignore\")\n"
      ]
    },
    {
      "cell_type": "code",
      "source": [
        "data = load_iris()\n",
        "Xtrain, Xtest, Ytrain, Ytest = train_test_split(data.data, data.target, test_size=0.3, random_state=4)"
      ],
      "metadata": {
        "id": "aa_9Z4mmpuqv"
      },
      "execution_count": 15,
      "outputs": []
    },
    {
      "cell_type": "code",
      "source": [
        "models = {\n",
        "    'LogisticRegression': LogisticRegression(C=0.1, max_iter=20, fit_intercept=True, solver='liblinear', n_jobs=3),\n",
        "    'RandomForest': RandomForestClassifier(n_estimators=100, random_state=42),\n",
        "    'SVC': SVC(kernel='linear', C=1),\n",
        "    'KNeighbors': KNeighborsClassifier(n_neighbors=3)\n",
        "}"
      ],
      "metadata": {
        "id": "YIuP6ZoppyJm"
      },
      "execution_count": 16,
      "outputs": []
    },
    {
      "cell_type": "code",
      "source": [
        "for name, model in models.items():\n",
        "    print(f\"\\n🔧 Training and evaluating: {name}\")\n",
        "\n",
        "    # Train the model\n",
        "    model.fit(Xtrain, Ytrain)\n",
        "\n",
        "    # Save model\n",
        "    filename = f\"{name.replace(' ', '_')}_model.pkl\"\n",
        "    with open(filename, 'wb') as f:\n",
        "        pickle.dump(model, f)\n",
        "\n",
        "    # Load model\n",
        "    with open(filename, 'rb') as f:\n",
        "        loaded_model = pickle.load(f)\n",
        "\n",
        "    # Predict on training and test sets\n",
        "    Ytrain_pred = loaded_model.predict(Xtrain)\n",
        "    Ytest_pred = loaded_model.predict(Xtest)\n",
        "\n",
        "    # Accuracy scores\n",
        "    train_acc = accuracy_score(Ytrain, Ytrain_pred)\n",
        "    test_acc = accuracy_score(Ytest, Ytest_pred)\n",
        "\n",
        "    # Evaluation\n",
        "    print(f\" Training Accuracy: {train_acc * 100:.2f}%\")\n",
        "    print(f\" Test Accuracy:    {test_acc * 100:.2f}%\")\n",
        "    print(\" Classification Report (Test Set):\")\n",
        "    print(classification_report(Ytest, Ytest_pred, target_names=data.target_names))\n",
        "    print(\" Confusion Matrix (Test Set):\")\n",
        "    print(confusion_matrix(Ytest, Ytest_pred))"
      ],
      "metadata": {
        "colab": {
          "base_uri": "https://localhost:8080/"
        },
        "id": "B7WAwULmq-79",
        "outputId": "854c9a54-5f6b-4627-e24e-16e88146ba45"
      },
      "execution_count": 22,
      "outputs": [
        {
          "output_type": "stream",
          "name": "stdout",
          "text": [
            "\n",
            "🔧 Training and evaluating: LogisticRegression\n",
            " Training Accuracy: 91.43%\n",
            " Test Accuracy:    91.11%\n",
            " Classification Report (Test Set):\n",
            "              precision    recall  f1-score   support\n",
            "\n",
            "      setosa       1.00      1.00      1.00        21\n",
            "  versicolor       1.00      0.60      0.75        10\n",
            "   virginica       0.78      1.00      0.88        14\n",
            "\n",
            "    accuracy                           0.91        45\n",
            "   macro avg       0.93      0.87      0.88        45\n",
            "weighted avg       0.93      0.91      0.91        45\n",
            "\n",
            " Confusion Matrix (Test Set):\n",
            "[[21  0  0]\n",
            " [ 0  6  4]\n",
            " [ 0  0 14]]\n",
            "\n",
            "🔧 Training and evaluating: RandomForest\n",
            " Training Accuracy: 100.00%\n",
            " Test Accuracy:    97.78%\n",
            " Classification Report (Test Set):\n",
            "              precision    recall  f1-score   support\n",
            "\n",
            "      setosa       1.00      1.00      1.00        21\n",
            "  versicolor       1.00      0.90      0.95        10\n",
            "   virginica       0.93      1.00      0.97        14\n",
            "\n",
            "    accuracy                           0.98        45\n",
            "   macro avg       0.98      0.97      0.97        45\n",
            "weighted avg       0.98      0.98      0.98        45\n",
            "\n",
            " Confusion Matrix (Test Set):\n",
            "[[21  0  0]\n",
            " [ 0  9  1]\n",
            " [ 0  0 14]]\n",
            "\n",
            "🔧 Training and evaluating: SVC\n",
            " Training Accuracy: 98.10%\n",
            " Test Accuracy:    97.78%\n",
            " Classification Report (Test Set):\n",
            "              precision    recall  f1-score   support\n",
            "\n",
            "      setosa       1.00      1.00      1.00        21\n",
            "  versicolor       1.00      0.90      0.95        10\n",
            "   virginica       0.93      1.00      0.97        14\n",
            "\n",
            "    accuracy                           0.98        45\n",
            "   macro avg       0.98      0.97      0.97        45\n",
            "weighted avg       0.98      0.98      0.98        45\n",
            "\n",
            " Confusion Matrix (Test Set):\n",
            "[[21  0  0]\n",
            " [ 0  9  1]\n",
            " [ 0  0 14]]\n",
            "\n",
            "🔧 Training and evaluating: KNeighbors\n",
            " Training Accuracy: 97.14%\n",
            " Test Accuracy:    97.78%\n",
            " Classification Report (Test Set):\n",
            "              precision    recall  f1-score   support\n",
            "\n",
            "      setosa       1.00      1.00      1.00        21\n",
            "  versicolor       1.00      0.90      0.95        10\n",
            "   virginica       0.93      1.00      0.97        14\n",
            "\n",
            "    accuracy                           0.98        45\n",
            "   macro avg       0.98      0.97      0.97        45\n",
            "weighted avg       0.98      0.98      0.98        45\n",
            "\n",
            " Confusion Matrix (Test Set):\n",
            "[[21  0  0]\n",
            " [ 0  9  1]\n",
            " [ 0  0 14]]\n"
          ]
        }
      ]
    },
    {
      "cell_type": "code",
      "source": [],
      "metadata": {
        "id": "V8va5LUTrBMf"
      },
      "execution_count": null,
      "outputs": []
    }
  ]
}